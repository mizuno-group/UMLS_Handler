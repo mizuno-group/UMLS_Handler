{
 "cells": [
  {
   "attachments": {},
   "cell_type": "markdown",
   "metadata": {},
   "source": [
    "#### ■ Sample Code for 'umls_converter.py'\n",
    "\n",
    "##### data handler for Unified Medical Language System (UMLS)\n",
    "[UMLS](https://www.nlm.nih.gov/research/umls/licensedcontent/umlsknowledgesources)\n",
    "\n",
    "\n",
    "--- record example ---\n",
    "- C0001041|ENG|P|L0001041|PF|S0414245|N|A31756755|12252053|194||RXNORM|IN|194|acetylcholine|0|N|4352|"
   ]
  },
  {
   "attachments": {},
   "cell_type": "markdown",
   "metadata": {},
   "source": [
    "***\n",
    "#### ① MeSH --> UMLS CUI"
   ]
  },
  {
   "cell_type": "code",
   "execution_count": 1,
   "metadata": {},
   "outputs": [],
   "source": [
    "import sys\n",
    "\n",
    "BASE_DIR = '/workspace/home/azuma/DDI/github/UMLS_Handler'\n",
    "\n",
    "sys.path.append(BASE_DIR)\n",
    "import umls_converter as uc"
   ]
  },
  {
   "cell_type": "code",
   "execution_count": 2,
   "metadata": {},
   "outputs": [
    {
     "name": "stdout",
     "output_type": "stream",
     "text": [
      "['AIR', 'ALT', 'AOD', 'AOT', 'ATC', 'BI', 'CCC', 'CCPSS', 'CCS', 'CCSR_ICD10CM', 'CCSR_ICD10PCS', 'CDCREC', 'CDT', 'CHV', 'COSTAR', 'CPM', 'CPT', 'CPTSP', 'CSP', 'CST', 'CVX', 'DDB', 'DMDICD10', 'DMDUMD', 'DRUGBANK', 'DSM-5', 'DXP', 'FMA', 'GO', 'GS', 'HCDT', 'HCPCS', 'HCPT', 'HGNC', 'HL7V2.5', 'HL7V3.0', 'HPO', 'ICD10', 'ICD10AE', 'ICD10AM', 'ICD10AMAE', 'ICD10CM', 'ICD10DUT', 'ICD10PCS', 'ICD9CM', 'ICF', 'ICF-CY', 'ICNP', 'ICPC', 'ICPC2EDUT', 'ICPC2EENG', 'ICPC2ICD10DUT', 'ICPC2ICD10ENG', 'ICPC2P', 'ICPCBAQ', 'ICPCDAN', 'ICPCDUT', 'ICPCFIN', 'ICPCFRE', 'ICPCGER', 'ICPCHEB', 'ICPCHUN', 'ICPCITA', 'ICPCNOR', 'ICPCPOR', 'ICPCSPA', 'ICPCSWE', 'JABL', 'KCD5', 'LCH', 'LCH_NW', 'LNC', 'LNC-DE-AT', 'LNC-DE-DE', 'LNC-EL-GR', 'LNC-ES-AR', 'LNC-ES-ES', 'LNC-ET-EE', 'LNC-FR-BE', 'LNC-FR-CA', 'LNC-FR-FR', 'LNC-IT-IT', 'LNC-KO-KR', 'LNC-NL-NL', 'LNC-PT-BR', 'LNC-RU-RU', 'LNC-TR-TR', 'LNC-ZH-CN', 'MCM', 'MDR', 'MDRBPO', 'MDRCZE', 'MDRDUT', 'MDRFRE', 'MDRGER', 'MDRHUN', 'MDRITA', 'MDRJPN', 'MDRKOR', 'MDRPOR', 'MDRRUS', 'MDRSPA', 'MED-RT', 'MEDCIN', 'MEDLINEPLUS', 'MEDLINEPLUS_SPA', 'MMSL', 'MMX', 'MSH', 'MSHCZE', 'MSHDUT', 'MSHFIN', 'MSHFRE', 'MSHGER', 'MSHITA', 'MSHJPN', 'MSHLAV', 'MSHNOR', 'MSHPOL', 'MSHPOR', 'MSHRUS', 'MSHSCR', 'MSHSPA', 'MSHSWE', 'MTH', 'MTHCMSFRF', 'MTHICD9', 'MTHICPC2EAE', 'MTHICPC2ICD10AE', 'MTHMST', 'MTHMSTFRE', 'MTHMSTITA', 'MTHSPL', 'MVX', 'NANDA-I', 'NCBI', 'NCI', 'NCI_ACC-AHA', 'NCI_BRIDG', 'NCI_BRIDG_3_0_3', 'NCI_BRIDG_5_3', 'NCI_BioC', 'NCI_CBDD', 'NCI_CCPS', 'NCI_CDC', 'NCI_CDISC', 'NCI_CDISC-GLOSS', 'NCI_CELLOSAURUS', 'NCI_CRCH', 'NCI_CTCAE', 'NCI_CTCAE_3', 'NCI_CTCAE_5', 'NCI_CTDC', 'NCI_CTEP-SDC', 'NCI_CTRP', 'NCI_CareLex', 'NCI_DCP', 'NCI_DICOM', 'NCI_DTP', 'NCI_EDQM-HC', 'NCI_FDA', 'NCI_GAIA', 'NCI_GDC', 'NCI_GENC', 'NCI_ICDC', 'NCI_ICH', 'NCI_INC', 'NCI_JAX', 'NCI_KEGG', 'NCI_NCI-GLOSS', 'NCI_NCI-HGNC', 'NCI_NCI-HL7', 'NCI_NCPDP', 'NCI_NICHD', 'NCI_PCDC', 'NCI_PI-RADS', 'NCI_PID', 'NCI_RENI', 'NCI_UCUM', 'NCI_ZFin', 'NCI_caDSR', 'NDDF', 'NEU', 'NIC', 'NOC', 'NUCCHCPT', 'OMIM', 'OMS', 'PCDS', 'PDQ', 'PNDS', 'PPAC', 'PSY', 'QMR', 'RAM', 'RCD', 'RCDAE', 'RCDSA', 'RCDSY', 'RXNORM', 'SCTSPA', 'SNM', 'SNMI', 'SNOMEDCT_US', 'SNOMEDCT_VET', 'SOP', 'SPN', 'SRC', 'TKMT', 'ULT', 'UMD', 'USP', 'USPMG', 'UWDA', 'VANDF', 'WHO', 'WHOFRE', 'WHOGER', 'WHOPOR', 'WHOSPA']\n"
     ]
    },
    {
     "ename": "ValueError",
     "evalue": "!! Inappropriate target SAB ; Choose from above list !!",
     "output_type": "error",
     "traceback": [
      "\u001b[0;31m---------------------------------------------------------------------------\u001b[0m",
      "\u001b[0;31mValueError\u001b[0m                                Traceback (most recent call last)",
      "Cell \u001b[0;32mIn[2], line 2\u001b[0m\n\u001b[1;32m      1\u001b[0m dat \u001b[39m=\u001b[39m uc\u001b[39m.\u001b[39mTarget2CUI(mrconso_path\u001b[39m=\u001b[39m\u001b[39m'\u001b[39m\u001b[39m/workspace/mnt/data1/Azuma/DDI_HDD1/UMLS/MRCONSO.RRF\u001b[39m\u001b[39m'\u001b[39m)\n\u001b[0;32m----> 2\u001b[0m dat\u001b[39m.\u001b[39;49mset_target(name\u001b[39m=\u001b[39;49m\u001b[39m\"\u001b[39;49m\u001b[39mMeSH\u001b[39;49m\u001b[39m\"\u001b[39;49m,candi_path\u001b[39m=\u001b[39;49mBASE_DIR\u001b[39m+\u001b[39;49m\u001b[39m'\u001b[39;49m\u001b[39m/data/target_candi.pkl\u001b[39;49m\u001b[39m'\u001b[39;49m)\n",
      "File \u001b[0;32m/workspace/home/azuma/DDI/github/UMLS_Handler/umls_converter.py:50\u001b[0m, in \u001b[0;36mTarget2CUI.set_target\u001b[0;34m(self, name, candi_path, target_check)\u001b[0m\n\u001b[1;32m     48\u001b[0m     \u001b[39melse\u001b[39;00m:\n\u001b[1;32m     49\u001b[0m         \u001b[39mprint\u001b[39m(target_candi)\n\u001b[0;32m---> 50\u001b[0m         \u001b[39mraise\u001b[39;00m \u001b[39mValueError\u001b[39;00m(\u001b[39m\"\u001b[39m\u001b[39m!! Inappropriate target SAB ; Choose from above list !!\u001b[39m\u001b[39m\"\u001b[39m)\n\u001b[1;32m     51\u001b[0m \u001b[39melse\u001b[39;00m:\n\u001b[1;32m     52\u001b[0m     \u001b[39mprint\u001b[39m(\u001b[39m\"\u001b[39m\u001b[39mCould not set correctly ^^;\u001b[39m\u001b[39m\"\u001b[39m)\n",
      "\u001b[0;31mValueError\u001b[0m: !! Inappropriate target SAB ; Choose from above list !!"
     ]
    }
   ],
   "source": [
    "dat = uc.Target2CUI(mrconso_path='/workspace/mnt/data1/Azuma/DDI_HDD1/UMLS/MRCONSO.RRF')\n",
    "dat.set_target(name=\"MeSH\",candi_path=BASE_DIR+'/data/target_candi.pkl')"
   ]
  },
  {
   "attachments": {},
   "cell_type": "markdown",
   "metadata": {},
   "source": [
    "#### ✖ MeSH --> 〇 MSH"
   ]
  },
  {
   "cell_type": "code",
   "execution_count": 3,
   "metadata": {},
   "outputs": [
    {
     "name": "stdout",
     "output_type": "stream",
     "text": [
      "Nice ! ^^\n",
      "Target name: MSH\n"
     ]
    },
    {
     "name": "stderr",
     "output_type": "stream",
     "text": [
      "16543671it [02:11, 125949.91it/s]\n"
     ]
    },
    {
     "name": "stdout",
     "output_type": "stream",
     "text": [
      "--- extract target records ---\n",
      "1004434 / 16543671 records were extracted\n"
     ]
    },
    {
     "name": "stderr",
     "output_type": "stream",
     "text": [
      "100%|██████████| 1004434/1004434 [00:04<00:00, 204068.59it/s]\n"
     ]
    }
   ],
   "source": [
    "dat = uc.Target2CUI(mrconso_path='/workspace/mnt/data1/Azuma/DDI_HDD1/UMLS/MRCONSO.RRF')\n",
    "dat.set_target(name=\"MSH\",candi_path=BASE_DIR+'/data/target_candi.pkl')\n",
    "dat.narrow_lines()\n",
    "dat.create_dic()"
   ]
  },
  {
   "attachments": {},
   "cell_type": "markdown",
   "metadata": {},
   "source": [
    "#### You can obtain dict as follows"
   ]
  },
  {
   "cell_type": "code",
   "execution_count": 4,
   "metadata": {},
   "outputs": [
    {
     "name": "stdout",
     "output_type": "stream",
     "text": [
      "('C0023890', {'D008103'})\n",
      "('C0239946', {'D008103'})\n",
      "--- Result ---\n",
      "query = D008103\n",
      "UMLS CUI : ['C0023890', 'C0239946']\n",
      "name : [{'Liver Cirrhosis', 'Cirrhosis, Liver', 'Cirrhosis, Hepatic', 'Hepatic Cirrhosis'}, {'Liver Fibrosis', 'Fibrosis, Liver'}]\n"
     ]
    }
   ],
   "source": [
    "name2cui = dat.name2cui\n",
    "code2cui = dat.code2cui\n",
    "# Show the normalized information about the target code of your interest\n",
    "dat.get_codeinfo(codeID='D008103')"
   ]
  },
  {
   "attachments": {},
   "cell_type": "markdown",
   "metadata": {},
   "source": [
    "***\n",
    "#### ② DrugBankID --> UMLS CUI"
   ]
  },
  {
   "cell_type": "code",
   "execution_count": 8,
   "metadata": {},
   "outputs": [
    {
     "name": "stdout",
     "output_type": "stream",
     "text": [
      "Nice ! ^^\n",
      "Target name: DRUGBANK\n"
     ]
    },
    {
     "name": "stderr",
     "output_type": "stream",
     "text": [
      "16543671it [02:14, 123225.20it/s]\n"
     ]
    },
    {
     "name": "stdout",
     "output_type": "stream",
     "text": [
      "--- extract target records ---\n",
      "28211 / 16543671 records were extracted\n"
     ]
    },
    {
     "name": "stderr",
     "output_type": "stream",
     "text": [
      "100%|██████████| 28211/28211 [00:00<00:00, 55186.10it/s]"
     ]
    },
    {
     "name": "stdout",
     "output_type": "stream",
     "text": [
      "('C0000970', {'DB00316'})\n",
      "('C1258986', {'DB00316'})\n",
      "('C1950939', {'DB00316'})\n",
      "--- Result ---\n",
      "query = DB00316\n",
      "UMLS CUI : ['C0000970', 'C1258986', 'C1950939']\n",
      "name : [{'Paracetamol', 'Paracetamolum', 'p-acetaminophenol', '4-acetamidophenol', 'p-acetamidophenol', 'p-Acetylaminophenol', \"4'-hydroxyacetanilide\", 'N-acetyl-p-aminophenol', 'APAP', 'Acetaminophen', '4-(Acetylamino)phenol', 'Acenol', 'p-hydroxy-acetanilid', 'p-hydroxyacetanilide', 'Paracétamol', 'Acetaminofén'}, {'p-hydroxyphenolacetamide'}, {'Acétaminophène'}]\n"
     ]
    },
    {
     "name": "stderr",
     "output_type": "stream",
     "text": [
      "\n"
     ]
    }
   ],
   "source": [
    "dat = uc.Target2CUI(mrconso_path='/workspace/mnt/data1/Azuma/DDI_HDD1/UMLS/MRCONSO.RRF')\n",
    "dat.set_target(name=\"DRUGBANK\",candi_path=BASE_DIR+'/data/target_candi.pkl')\n",
    "dat.narrow_lines()\n",
    "dat.create_dic()\n",
    "name2cui = dat.name2cui\n",
    "code2cui = dat.code2cui\n",
    "\n",
    "# Show the normalzed information about the target code of your interest\n",
    "dat.get_codeinfo(codeID='DB00316')"
   ]
  }
 ],
 "metadata": {
  "interpreter": {
   "hash": "bf1ec4ce3386f079608efef299d25012785f638f09c8399df9141df8012c0806"
  },
  "kernelspec": {
   "display_name": "Python 3.8.10 64-bit ('piphazuma': venv)",
   "language": "python",
   "name": "python3"
  },
  "language_info": {
   "codemirror_mode": {
    "name": "ipython",
    "version": 3
   },
   "file_extension": ".py",
   "mimetype": "text/x-python",
   "name": "python",
   "nbconvert_exporter": "python",
   "pygments_lexer": "ipython3",
   "version": "3.10.11"
  },
  "orig_nbformat": 4
 },
 "nbformat": 4,
 "nbformat_minor": 2
}
